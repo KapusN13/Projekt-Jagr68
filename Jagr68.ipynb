{
 "cells": [
  {
   "cell_type": "code",
   "execution_count": 1,
   "metadata": {
    "collapsed": false
   },
   "outputs": [],
   "source": [
    "%matplotlib inline\n",
    "import matplotlib.pyplot as plt\n",
    "\n",
    "import pandas as pd\n",
    "\n",
    "from IPython.display import Image\n",
    "from IPython.core.display import HTML \n",
    "\n",
    "\n"
   ]
  },
  {
   "cell_type": "code",
   "execution_count": 2,
   "metadata": {
    "collapsed": false
   },
   "outputs": [
    {
     "data": {
      "text/html": [
       "<img src=\"https://nhl.bamcontent.com/images/photos/285904462/1024x576/cut.jpg\"/>"
      ],
      "text/plain": [
       "<IPython.core.display.Image object>"
      ]
     },
     "execution_count": 2,
     "metadata": {},
     "output_type": "execute_result"
    }
   ],
   "source": [
    "Image(url='https://nhl.bamcontent.com/images/photos/285904462/1024x576/cut.jpg')"
   ]
  },
  {
   "cell_type": "markdown",
   "metadata": {},
   "source": [
    "Travelling Jagrs, skupina navijačev, ki ga spremlja na tekmah. Nosijo drese vseh ekip, za katere je tekom kariere igral in s frizurami po kateri je bil znan na v začetnih letih igranja v ligi NHL."
   ]
  },
  {
   "cell_type": "code",
   "execution_count": 4,
   "metadata": {
    "collapsed": false
   },
   "outputs": [],
   "source": [
    "tekme = pd.read_csv('C:\\Python34\\jagr.csv', index_col = 'st_tekme')"
   ]
  },
  {
   "cell_type": "code",
   "execution_count": 5,
   "metadata": {
    "collapsed": false
   },
   "outputs": [
    {
     "data": {
      "text/html": [
       "<div>\n",
       "<table border=\"1\" class=\"dataframe\">\n",
       "  <thead>\n",
       "    <tr style=\"text-align: right;\">\n",
       "      <th></th>\n",
       "      <th>starost</th>\n",
       "      <th>nasprotnik</th>\n",
       "      <th>zadetki</th>\n",
       "      <th>asistence</th>\n",
       "      <th>tocke</th>\n",
       "      <th>plus_minus</th>\n",
       "      <th>kazni</th>\n",
       "      <th>streli</th>\n",
       "    </tr>\n",
       "    <tr>\n",
       "      <th>st_tekme</th>\n",
       "      <th></th>\n",
       "      <th></th>\n",
       "      <th></th>\n",
       "      <th></th>\n",
       "      <th></th>\n",
       "      <th></th>\n",
       "      <th></th>\n",
       "      <th></th>\n",
       "    </tr>\n",
       "  </thead>\n",
       "  <tbody>\n",
       "    <tr>\n",
       "      <th>1</th>\n",
       "      <td>18-232</td>\n",
       "      <td>WSH</td>\n",
       "      <td>0</td>\n",
       "      <td>0</td>\n",
       "      <td>0</td>\n",
       "      <td>2</td>\n",
       "      <td>0</td>\n",
       "      <td>1</td>\n",
       "    </tr>\n",
       "    <tr>\n",
       "      <th>2</th>\n",
       "      <td>18-234</td>\n",
       "      <td>NJD</td>\n",
       "      <td>1</td>\n",
       "      <td>0</td>\n",
       "      <td>1</td>\n",
       "      <td>-1</td>\n",
       "      <td>0</td>\n",
       "      <td>1</td>\n",
       "    </tr>\n",
       "    <tr>\n",
       "      <th>3</th>\n",
       "      <td>18-236</td>\n",
       "      <td>STL</td>\n",
       "      <td>0</td>\n",
       "      <td>0</td>\n",
       "      <td>0</td>\n",
       "      <td>-1</td>\n",
       "      <td>0</td>\n",
       "      <td>1</td>\n",
       "    </tr>\n",
       "    <tr>\n",
       "      <th>4</th>\n",
       "      <td>18-238</td>\n",
       "      <td>CHI</td>\n",
       "      <td>0</td>\n",
       "      <td>0</td>\n",
       "      <td>0</td>\n",
       "      <td>0</td>\n",
       "      <td>0</td>\n",
       "      <td>0</td>\n",
       "    </tr>\n",
       "    <tr>\n",
       "      <th>5</th>\n",
       "      <td>18-240</td>\n",
       "      <td>NYI</td>\n",
       "      <td>1</td>\n",
       "      <td>0</td>\n",
       "      <td>1</td>\n",
       "      <td>1</td>\n",
       "      <td>0</td>\n",
       "      <td>3</td>\n",
       "    </tr>\n",
       "    <tr>\n",
       "      <th>6</th>\n",
       "      <td>18-243</td>\n",
       "      <td>PHI</td>\n",
       "      <td>0</td>\n",
       "      <td>0</td>\n",
       "      <td>0</td>\n",
       "      <td>-2</td>\n",
       "      <td>0</td>\n",
       "      <td>1</td>\n",
       "    </tr>\n",
       "    <tr>\n",
       "      <th>7</th>\n",
       "      <td>18-246</td>\n",
       "      <td>BUF</td>\n",
       "      <td>1</td>\n",
       "      <td>1</td>\n",
       "      <td>2</td>\n",
       "      <td>1</td>\n",
       "      <td>2</td>\n",
       "      <td>3</td>\n",
       "    </tr>\n",
       "    <tr>\n",
       "      <th>8</th>\n",
       "      <td>18-247</td>\n",
       "      <td>NYR</td>\n",
       "      <td>0</td>\n",
       "      <td>0</td>\n",
       "      <td>0</td>\n",
       "      <td>-2</td>\n",
       "      <td>2</td>\n",
       "      <td>4</td>\n",
       "    </tr>\n",
       "    <tr>\n",
       "      <th>9</th>\n",
       "      <td>18-250</td>\n",
       "      <td>MTL</td>\n",
       "      <td>0</td>\n",
       "      <td>0</td>\n",
       "      <td>0</td>\n",
       "      <td>0</td>\n",
       "      <td>0</td>\n",
       "      <td>0</td>\n",
       "    </tr>\n",
       "    <tr>\n",
       "      <th>10</th>\n",
       "      <td>18-252</td>\n",
       "      <td>QUE</td>\n",
       "      <td>0</td>\n",
       "      <td>0</td>\n",
       "      <td>0</td>\n",
       "      <td>0</td>\n",
       "      <td>0</td>\n",
       "      <td>1</td>\n",
       "    </tr>\n",
       "  </tbody>\n",
       "</table>\n",
       "</div>"
      ],
      "text/plain": [
       "         starost nasprotnik  zadetki  asistence  tocke  plus_minus  kazni  \\\n",
       "st_tekme                                                                    \n",
       "1         18-232        WSH        0          0      0           2      0   \n",
       "2         18-234        NJD        1          0      1          -1      0   \n",
       "3         18-236        STL        0          0      0          -1      0   \n",
       "4         18-238        CHI        0          0      0           0      0   \n",
       "5         18-240        NYI        1          0      1           1      0   \n",
       "6         18-243        PHI        0          0      0          -2      0   \n",
       "7         18-246        BUF        1          1      2           1      2   \n",
       "8         18-247        NYR        0          0      0          -2      2   \n",
       "9         18-250        MTL        0          0      0           0      0   \n",
       "10        18-252        QUE        0          0      0           0      0   \n",
       "\n",
       "          streli  \n",
       "st_tekme          \n",
       "1              1  \n",
       "2              1  \n",
       "3              1  \n",
       "4              0  \n",
       "5              3  \n",
       "6              1  \n",
       "7              3  \n",
       "8              4  \n",
       "9              0  \n",
       "10             1  "
      ]
     },
     "execution_count": 5,
     "metadata": {},
     "output_type": "execute_result"
    }
   ],
   "source": [
    "tekme[:10]"
   ]
  },
  {
   "cell_type": "markdown",
   "metadata": {},
   "source": [
    "Tabela 1711-ih tekem, ki jih je v ligi NHL odigral Jaromir. Za analizo sem zbral podatke o tekmah: starost, nasprotnik, zadetki, asistence, plus_minus, kazni in streli. Zaradi kasnejših potreb bomo starost zaokrožili na leta."
   ]
  },
  {
   "cell_type": "code",
   "execution_count": 6,
   "metadata": {
    "collapsed": false
   },
   "outputs": [],
   "source": [
    "for i in range(1,1712):\n",
    "    tekme.at[i,'starost'] = tekme.at[i,'starost'][:2]"
   ]
  },
  {
   "cell_type": "code",
   "execution_count": 7,
   "metadata": {
    "collapsed": false
   },
   "outputs": [
    {
     "data": {
      "text/html": [
       "<div>\n",
       "<table border=\"1\" class=\"dataframe\">\n",
       "  <thead>\n",
       "    <tr style=\"text-align: right;\">\n",
       "      <th></th>\n",
       "      <th>starost</th>\n",
       "      <th>nasprotnik</th>\n",
       "      <th>zadetki</th>\n",
       "      <th>asistence</th>\n",
       "      <th>tocke</th>\n",
       "      <th>plus_minus</th>\n",
       "      <th>kazni</th>\n",
       "      <th>streli</th>\n",
       "    </tr>\n",
       "    <tr>\n",
       "      <th>st_tekme</th>\n",
       "      <th></th>\n",
       "      <th></th>\n",
       "      <th></th>\n",
       "      <th></th>\n",
       "      <th></th>\n",
       "      <th></th>\n",
       "      <th></th>\n",
       "      <th></th>\n",
       "    </tr>\n",
       "  </thead>\n",
       "  <tbody>\n",
       "    <tr>\n",
       "      <th>1</th>\n",
       "      <td>18</td>\n",
       "      <td>WSH</td>\n",
       "      <td>0</td>\n",
       "      <td>0</td>\n",
       "      <td>0</td>\n",
       "      <td>2</td>\n",
       "      <td>0</td>\n",
       "      <td>1</td>\n",
       "    </tr>\n",
       "    <tr>\n",
       "      <th>2</th>\n",
       "      <td>18</td>\n",
       "      <td>NJD</td>\n",
       "      <td>1</td>\n",
       "      <td>0</td>\n",
       "      <td>1</td>\n",
       "      <td>-1</td>\n",
       "      <td>0</td>\n",
       "      <td>1</td>\n",
       "    </tr>\n",
       "    <tr>\n",
       "      <th>3</th>\n",
       "      <td>18</td>\n",
       "      <td>STL</td>\n",
       "      <td>0</td>\n",
       "      <td>0</td>\n",
       "      <td>0</td>\n",
       "      <td>-1</td>\n",
       "      <td>0</td>\n",
       "      <td>1</td>\n",
       "    </tr>\n",
       "    <tr>\n",
       "      <th>4</th>\n",
       "      <td>18</td>\n",
       "      <td>CHI</td>\n",
       "      <td>0</td>\n",
       "      <td>0</td>\n",
       "      <td>0</td>\n",
       "      <td>0</td>\n",
       "      <td>0</td>\n",
       "      <td>0</td>\n",
       "    </tr>\n",
       "    <tr>\n",
       "      <th>5</th>\n",
       "      <td>18</td>\n",
       "      <td>NYI</td>\n",
       "      <td>1</td>\n",
       "      <td>0</td>\n",
       "      <td>1</td>\n",
       "      <td>1</td>\n",
       "      <td>0</td>\n",
       "      <td>3</td>\n",
       "    </tr>\n",
       "    <tr>\n",
       "      <th>6</th>\n",
       "      <td>18</td>\n",
       "      <td>PHI</td>\n",
       "      <td>0</td>\n",
       "      <td>0</td>\n",
       "      <td>0</td>\n",
       "      <td>-2</td>\n",
       "      <td>0</td>\n",
       "      <td>1</td>\n",
       "    </tr>\n",
       "    <tr>\n",
       "      <th>7</th>\n",
       "      <td>18</td>\n",
       "      <td>BUF</td>\n",
       "      <td>1</td>\n",
       "      <td>1</td>\n",
       "      <td>2</td>\n",
       "      <td>1</td>\n",
       "      <td>2</td>\n",
       "      <td>3</td>\n",
       "    </tr>\n",
       "    <tr>\n",
       "      <th>8</th>\n",
       "      <td>18</td>\n",
       "      <td>NYR</td>\n",
       "      <td>0</td>\n",
       "      <td>0</td>\n",
       "      <td>0</td>\n",
       "      <td>-2</td>\n",
       "      <td>2</td>\n",
       "      <td>4</td>\n",
       "    </tr>\n",
       "    <tr>\n",
       "      <th>9</th>\n",
       "      <td>18</td>\n",
       "      <td>MTL</td>\n",
       "      <td>0</td>\n",
       "      <td>0</td>\n",
       "      <td>0</td>\n",
       "      <td>0</td>\n",
       "      <td>0</td>\n",
       "      <td>0</td>\n",
       "    </tr>\n",
       "    <tr>\n",
       "      <th>10</th>\n",
       "      <td>18</td>\n",
       "      <td>QUE</td>\n",
       "      <td>0</td>\n",
       "      <td>0</td>\n",
       "      <td>0</td>\n",
       "      <td>0</td>\n",
       "      <td>0</td>\n",
       "      <td>1</td>\n",
       "    </tr>\n",
       "  </tbody>\n",
       "</table>\n",
       "</div>"
      ],
      "text/plain": [
       "         starost nasprotnik  zadetki  asistence  tocke  plus_minus  kazni  \\\n",
       "st_tekme                                                                    \n",
       "1             18        WSH        0          0      0           2      0   \n",
       "2             18        NJD        1          0      1          -1      0   \n",
       "3             18        STL        0          0      0          -1      0   \n",
       "4             18        CHI        0          0      0           0      0   \n",
       "5             18        NYI        1          0      1           1      0   \n",
       "6             18        PHI        0          0      0          -2      0   \n",
       "7             18        BUF        1          1      2           1      2   \n",
       "8             18        NYR        0          0      0          -2      2   \n",
       "9             18        MTL        0          0      0           0      0   \n",
       "10            18        QUE        0          0      0           0      0   \n",
       "\n",
       "          streli  \n",
       "st_tekme          \n",
       "1              1  \n",
       "2              1  \n",
       "3              1  \n",
       "4              0  \n",
       "5              3  \n",
       "6              1  \n",
       "7              3  \n",
       "8              4  \n",
       "9              0  \n",
       "10             1  "
      ]
     },
     "execution_count": 7,
     "metadata": {},
     "output_type": "execute_result"
    }
   ],
   "source": [
    "tekme[:10]"
   ]
  },
  {
   "cell_type": "code",
   "execution_count": 8,
   "metadata": {
    "collapsed": false
   },
   "outputs": [
    {
     "data": {
      "text/plain": [
       "zadetki       765\n",
       "asistence    1149\n",
       "tocke        1914\n",
       "dtype: int64"
      ]
     },
     "execution_count": 8,
     "metadata": {},
     "output_type": "execute_result"
    }
   ],
   "source": [
    "tekme[['zadetki','asistence','tocke']].sum()"
   ]
  },
  {
   "cell_type": "markdown",
   "metadata": {},
   "source": [
    "# Individualni dosežki"
   ]
  },
  {
   "cell_type": "markdown",
   "metadata": {},
   "source": [
    "Jaromir Jagr je v svoji dolgoletni karieri dosegel 765 zadetkov, 1149 podaj za skupnih 1914 točk, kar ga uvršča na drugo mesto najučinkovitejših hokejistov lige NHL vseh časov. Za začetek si bomo ogledali najboljše individualne dosežke Jaromirja na posameznih tekmah."
   ]
  },
  {
   "cell_type": "code",
   "execution_count": 9,
   "metadata": {
    "collapsed": false
   },
   "outputs": [
    {
     "data": {
      "text/plain": [
       "zadetki        4\n",
       "asistence      5\n",
       "tocke          7\n",
       "plus_minus     5\n",
       "kazni         17\n",
       "streli        12\n",
       "dtype: int64"
      ]
     },
     "execution_count": 9,
     "metadata": {},
     "output_type": "execute_result"
    }
   ],
   "source": [
    "tekme[['zadetki','asistence','tocke','plus_minus','kazni','streli']].max()"
   ]
  },
  {
   "cell_type": "code",
   "execution_count": 10,
   "metadata": {
    "collapsed": false
   },
   "outputs": [
    {
     "data": {
      "text/html": [
       "<div>\n",
       "<table border=\"1\" class=\"dataframe\">\n",
       "  <thead>\n",
       "    <tr style=\"text-align: right;\">\n",
       "      <th></th>\n",
       "      <th>nasprotnik</th>\n",
       "      <th>zadetki</th>\n",
       "    </tr>\n",
       "    <tr>\n",
       "      <th>st_tekme</th>\n",
       "      <th></th>\n",
       "      <th></th>\n",
       "    </tr>\n",
       "  </thead>\n",
       "  <tbody>\n",
       "    <tr>\n",
       "      <th>54</th>\n",
       "      <td>BOS</td>\n",
       "      <td>3</td>\n",
       "    </tr>\n",
       "    <tr>\n",
       "      <th>323</th>\n",
       "      <td>BOS</td>\n",
       "      <td>3</td>\n",
       "    </tr>\n",
       "    <tr>\n",
       "      <th>453</th>\n",
       "      <td>OTT</td>\n",
       "      <td>3</td>\n",
       "    </tr>\n",
       "    <tr>\n",
       "      <th>464</th>\n",
       "      <td>BOS</td>\n",
       "      <td>3</td>\n",
       "    </tr>\n",
       "    <tr>\n",
       "      <th>681</th>\n",
       "      <td>OTT</td>\n",
       "      <td>3</td>\n",
       "    </tr>\n",
       "    <tr>\n",
       "      <th>697</th>\n",
       "      <td>NYI</td>\n",
       "      <td>3</td>\n",
       "    </tr>\n",
       "    <tr>\n",
       "      <th>729</th>\n",
       "      <td>NYR</td>\n",
       "      <td>4</td>\n",
       "    </tr>\n",
       "    <tr>\n",
       "      <th>757</th>\n",
       "      <td>MTL</td>\n",
       "      <td>3</td>\n",
       "    </tr>\n",
       "    <tr>\n",
       "      <th>793</th>\n",
       "      <td>CGY</td>\n",
       "      <td>3</td>\n",
       "    </tr>\n",
       "    <tr>\n",
       "      <th>917</th>\n",
       "      <td>FLA</td>\n",
       "      <td>3</td>\n",
       "    </tr>\n",
       "    <tr>\n",
       "      <th>928</th>\n",
       "      <td>TBL</td>\n",
       "      <td>3</td>\n",
       "    </tr>\n",
       "    <tr>\n",
       "      <th>1036</th>\n",
       "      <td>NYI</td>\n",
       "      <td>3</td>\n",
       "    </tr>\n",
       "    <tr>\n",
       "      <th>1046</th>\n",
       "      <td>PIT</td>\n",
       "      <td>3</td>\n",
       "    </tr>\n",
       "    <tr>\n",
       "      <th>1096</th>\n",
       "      <td>PHI</td>\n",
       "      <td>3</td>\n",
       "    </tr>\n",
       "    <tr>\n",
       "      <th>1513</th>\n",
       "      <td>PHI</td>\n",
       "      <td>3</td>\n",
       "    </tr>\n",
       "  </tbody>\n",
       "</table>\n",
       "</div>"
      ],
      "text/plain": [
       "         nasprotnik  zadetki\n",
       "st_tekme                    \n",
       "54              BOS        3\n",
       "323             BOS        3\n",
       "453             OTT        3\n",
       "464             BOS        3\n",
       "681             OTT        3\n",
       "697             NYI        3\n",
       "729             NYR        4\n",
       "757             MTL        3\n",
       "793             CGY        3\n",
       "917             FLA        3\n",
       "928             TBL        3\n",
       "1036            NYI        3\n",
       "1046            PIT        3\n",
       "1096            PHI        3\n",
       "1513            PHI        3"
      ]
     },
     "execution_count": 10,
     "metadata": {},
     "output_type": "execute_result"
    }
   ],
   "source": [
    "tekme[tekme['zadetki']>2][['nasprotnik','zadetki']]"
   ]
  },
  {
   "cell_type": "markdown",
   "metadata": {},
   "source": [
    "V svoji karieri je dosegel kar 15 tako imenovanih \"Hat-trickov\", enkrat pa mu je uspelo zadeti kar štirikrat. To se je zgodilo na njegovi 729. tekmi proti ekipi New York Rangers."
   ]
  },
  {
   "cell_type": "code",
   "execution_count": 11,
   "metadata": {
    "collapsed": false
   },
   "outputs": [
    {
     "data": {
      "text/html": [
       "<div>\n",
       "<table border=\"1\" class=\"dataframe\">\n",
       "  <thead>\n",
       "    <tr style=\"text-align: right;\">\n",
       "      <th></th>\n",
       "      <th>nasprotnik</th>\n",
       "      <th>asistence</th>\n",
       "    </tr>\n",
       "    <tr>\n",
       "      <th>st_tekme</th>\n",
       "      <th></th>\n",
       "      <th></th>\n",
       "    </tr>\n",
       "  </thead>\n",
       "  <tbody>\n",
       "    <tr>\n",
       "      <th>251</th>\n",
       "      <td>PHI</td>\n",
       "      <td>5</td>\n",
       "    </tr>\n",
       "    <tr>\n",
       "      <th>324</th>\n",
       "      <td>HAR</td>\n",
       "      <td>4</td>\n",
       "    </tr>\n",
       "    <tr>\n",
       "      <th>352</th>\n",
       "      <td>NYR</td>\n",
       "      <td>4</td>\n",
       "    </tr>\n",
       "    <tr>\n",
       "      <th>423</th>\n",
       "      <td>WIN</td>\n",
       "      <td>4</td>\n",
       "    </tr>\n",
       "    <tr>\n",
       "      <th>474</th>\n",
       "      <td>STL</td>\n",
       "      <td>4</td>\n",
       "    </tr>\n",
       "    <tr>\n",
       "      <th>627</th>\n",
       "      <td>BUF</td>\n",
       "      <td>4</td>\n",
       "    </tr>\n",
       "    <tr>\n",
       "      <th>697</th>\n",
       "      <td>NYI</td>\n",
       "      <td>4</td>\n",
       "    </tr>\n",
       "    <tr>\n",
       "      <th>917</th>\n",
       "      <td>FLA</td>\n",
       "      <td>4</td>\n",
       "    </tr>\n",
       "    <tr>\n",
       "      <th>1100</th>\n",
       "      <td>NYI</td>\n",
       "      <td>4</td>\n",
       "    </tr>\n",
       "    <tr>\n",
       "      <th>1253</th>\n",
       "      <td>MTL</td>\n",
       "      <td>4</td>\n",
       "    </tr>\n",
       "  </tbody>\n",
       "</table>\n",
       "</div>"
      ],
      "text/plain": [
       "         nasprotnik  asistence\n",
       "st_tekme                      \n",
       "251             PHI          5\n",
       "324             HAR          4\n",
       "352             NYR          4\n",
       "423             WIN          4\n",
       "474             STL          4\n",
       "627             BUF          4\n",
       "697             NYI          4\n",
       "917             FLA          4\n",
       "1100            NYI          4\n",
       "1253            MTL          4"
      ]
     },
     "execution_count": 11,
     "metadata": {},
     "output_type": "execute_result"
    }
   ],
   "source": [
    "tekme[tekme['asistence']>3][['nasprotnik','asistence']]"
   ]
  },
  {
   "cell_type": "markdown",
   "metadata": {},
   "source": [
    "Največ asistenc na eni tekmi je dosegel proti ekipi Philadelphia Flyers in sicer 5. "
   ]
  },
  {
   "cell_type": "code",
   "execution_count": 12,
   "metadata": {
    "collapsed": false
   },
   "outputs": [
    {
     "data": {
      "text/html": [
       "<div>\n",
       "<table border=\"1\" class=\"dataframe\">\n",
       "  <thead>\n",
       "    <tr style=\"text-align: right;\">\n",
       "      <th></th>\n",
       "      <th>nasprotnik</th>\n",
       "      <th>zadetki</th>\n",
       "      <th>asistence</th>\n",
       "      <th>tocke</th>\n",
       "    </tr>\n",
       "    <tr>\n",
       "      <th>st_tekme</th>\n",
       "      <th></th>\n",
       "      <th></th>\n",
       "      <th></th>\n",
       "      <th></th>\n",
       "    </tr>\n",
       "  </thead>\n",
       "  <tbody>\n",
       "    <tr>\n",
       "      <th>251</th>\n",
       "      <td>PHI</td>\n",
       "      <td>1</td>\n",
       "      <td>5</td>\n",
       "      <td>6</td>\n",
       "    </tr>\n",
       "    <tr>\n",
       "      <th>697</th>\n",
       "      <td>NYI</td>\n",
       "      <td>3</td>\n",
       "      <td>4</td>\n",
       "      <td>7</td>\n",
       "    </tr>\n",
       "    <tr>\n",
       "      <th>917</th>\n",
       "      <td>FLA</td>\n",
       "      <td>3</td>\n",
       "      <td>4</td>\n",
       "      <td>7</td>\n",
       "    </tr>\n",
       "  </tbody>\n",
       "</table>\n",
       "</div>"
      ],
      "text/plain": [
       "         nasprotnik  zadetki  asistence  tocke\n",
       "st_tekme                                      \n",
       "251             PHI        1          5      6\n",
       "697             NYI        3          4      7\n",
       "917             FLA        3          4      7"
      ]
     },
     "execution_count": 12,
     "metadata": {},
     "output_type": "execute_result"
    }
   ],
   "source": [
    "tekme[tekme['tocke']>5][['nasprotnik','zadetki','asistence','tocke']]"
   ]
  },
  {
   "cell_type": "markdown",
   "metadata": {},
   "source": [
    "Dvakrat v karieri mu je na eni tekmi uspelo doseči kar 7 točk! Pri tem je obakrat dosegel po 3 zadetke in 4 asistence."
   ]
  },
  {
   "cell_type": "code",
   "execution_count": 13,
   "metadata": {
    "collapsed": false
   },
   "outputs": [
    {
     "data": {
      "text/html": [
       "<div>\n",
       "<table border=\"1\" class=\"dataframe\">\n",
       "  <thead>\n",
       "    <tr style=\"text-align: right;\">\n",
       "      <th></th>\n",
       "      <th>nasprotnik</th>\n",
       "      <th>kazni</th>\n",
       "    </tr>\n",
       "    <tr>\n",
       "      <th>st_tekme</th>\n",
       "      <th></th>\n",
       "      <th></th>\n",
       "    </tr>\n",
       "  </thead>\n",
       "  <tbody>\n",
       "    <tr>\n",
       "      <th>35</th>\n",
       "      <td>WIN</td>\n",
       "      <td>10</td>\n",
       "    </tr>\n",
       "    <tr>\n",
       "      <th>128</th>\n",
       "      <td>WSH</td>\n",
       "      <td>12</td>\n",
       "    </tr>\n",
       "    <tr>\n",
       "      <th>212</th>\n",
       "      <td>PHI</td>\n",
       "      <td>15</td>\n",
       "    </tr>\n",
       "    <tr>\n",
       "      <th>248</th>\n",
       "      <td>STL</td>\n",
       "      <td>15</td>\n",
       "    </tr>\n",
       "    <tr>\n",
       "      <th>344</th>\n",
       "      <td>NYI</td>\n",
       "      <td>17</td>\n",
       "    </tr>\n",
       "    <tr>\n",
       "      <th>467</th>\n",
       "      <td>WSH</td>\n",
       "      <td>12</td>\n",
       "    </tr>\n",
       "    <tr>\n",
       "      <th>707</th>\n",
       "      <td>ATL</td>\n",
       "      <td>10</td>\n",
       "    </tr>\n",
       "  </tbody>\n",
       "</table>\n",
       "</div>"
      ],
      "text/plain": [
       "         nasprotnik  kazni\n",
       "st_tekme                  \n",
       "35              WIN     10\n",
       "128             WSH     12\n",
       "212             PHI     15\n",
       "248             STL     15\n",
       "344             NYI     17\n",
       "467             WSH     12\n",
       "707             ATL     10"
      ]
     },
     "execution_count": 13,
     "metadata": {},
     "output_type": "execute_result"
    }
   ],
   "source": [
    "tekme[tekme['kazni']>9][['nasprotnik','kazni']]"
   ]
  },
  {
   "cell_type": "markdown",
   "metadata": {
    "collapsed": true
   },
   "source": [
    "Le šestkrat se mu je na tekmah lige NHL zgodilo, da je prejel vsaj 10 kazenskih minut. Največ, 17, na tekmi proti ekipi New York Islanders. "
   ]
  },
  {
   "cell_type": "code",
   "execution_count": 14,
   "metadata": {
    "collapsed": false
   },
   "outputs": [
    {
     "data": {
      "text/html": [
       "<div>\n",
       "<table border=\"1\" class=\"dataframe\">\n",
       "  <thead>\n",
       "    <tr style=\"text-align: right;\">\n",
       "      <th></th>\n",
       "      <th>nasprotnik</th>\n",
       "      <th>plus_minus</th>\n",
       "    </tr>\n",
       "    <tr>\n",
       "      <th>st_tekme</th>\n",
       "      <th></th>\n",
       "      <th></th>\n",
       "    </tr>\n",
       "  </thead>\n",
       "  <tbody>\n",
       "    <tr>\n",
       "      <th>98</th>\n",
       "      <td>EDM</td>\n",
       "      <td>5</td>\n",
       "    </tr>\n",
       "    <tr>\n",
       "      <th>104</th>\n",
       "      <td>PHI</td>\n",
       "      <td>5</td>\n",
       "    </tr>\n",
       "    <tr>\n",
       "      <th>690</th>\n",
       "      <td>CAR</td>\n",
       "      <td>5</td>\n",
       "    </tr>\n",
       "    <tr>\n",
       "      <th>817</th>\n",
       "      <td>OTT</td>\n",
       "      <td>-5</td>\n",
       "    </tr>\n",
       "    <tr>\n",
       "      <th>917</th>\n",
       "      <td>FLA</td>\n",
       "      <td>5</td>\n",
       "    </tr>\n",
       "  </tbody>\n",
       "</table>\n",
       "</div>"
      ],
      "text/plain": [
       "         nasprotnik  plus_minus\n",
       "st_tekme                       \n",
       "98              EDM           5\n",
       "104             PHI           5\n",
       "690             CAR           5\n",
       "817             OTT          -5\n",
       "917             FLA           5"
      ]
     },
     "execution_count": 14,
     "metadata": {},
     "output_type": "execute_result"
    }
   ],
   "source": [
    "tekme[(tekme['plus_minus']<-4) | (tekme['plus_minus']>4)][['nasprotnik','plus_minus']]"
   ]
  },
  {
   "cell_type": "markdown",
   "metadata": {},
   "source": [
    "Plus_minus (+/-) je statistika, ki pove pri koliko danih oziroma prejetih golih je bil hokejist na ledu. Za vsak dan zadetek ob katerem je bil hokejist takrat ne ledu, se poveča za 1 in podobno, za vsak prejet zmanjša za 1. Pri tem se ne štejejo zadetki dani ob številčni prednosti na ledu in zadetki v nebranjeno mrežo. Jaromir Jagr je v svoji karieri štirikrat zabeležil najboljši  +/- 5, svojega najslabšega pa enkrat, to je -5."
   ]
  },
  {
   "cell_type": "markdown",
   "metadata": {
    "collapsed": false
   },
   "source": [
    "# Grafični pregled kariere"
   ]
  },
  {
   "cell_type": "code",
   "execution_count": 15,
   "metadata": {
    "collapsed": false
   },
   "outputs": [
    {
     "data": {
      "text/plain": [
       "<matplotlib.axes._subplots.AxesSubplot at 0xcfa35d4b00>"
      ]
     },
     "execution_count": 15,
     "metadata": {},
     "output_type": "execute_result"
    },
    {
     "data": {
      "image/png": "[encoded data removed]",
      "text/plain": [
       "<matplotlib.figure.Figure at 0xcfa35ef748>"
      ]
     },
     "metadata": {},
     "output_type": "display_data"
    }
   ],
   "source": [
    "kumulativne_tocke = tekme.cumsum()[['zadetki','asistence','tocke']]\n",
    "kumulativne_tocke.plot(title='Kumulativna porazdelitev zadetkov, asistenc in točk')\n"
   ]
  },
  {
   "cell_type": "markdown",
   "metadata": {},
   "source": [
    "Na grafu lahko vidimi kumulativno porazdelitev zadetkov, asistenc in točk skozi kariero. Opazimo, da je Jaromir prvih ~400 tekem rahlo stopnjeval svojo produkcijo. Nato je bil tam do 1100. tekme precej konstanten, v zadnjih parih letih pa mu je produkcija rahlo padala. To bi morda videi lepše če pogledamo graf točk po starosti:"
   ]
  },
  {
   "cell_type": "code",
   "execution_count": 16,
   "metadata": {
    "collapsed": true
   },
   "outputs": [],
   "source": [
    "seznam_tekem_po_starosti = []\n",
    "seznam_zadetkov_po_starosti = []\n",
    "seznam_asistenc_po_starosti = []\n",
    "seznam_tock_po_starosti = []\n",
    "for i in range(18,46):\n",
    "    seznam_tekem_po_starosti.append(tekme[tekme['starost']==str(i)]['zadetki'].count())\n",
    "    seznam_zadetkov_po_starosti.append(tekme[tekme['starost']==str(i)]['zadetki'].sum())\n",
    "    seznam_asistenc_po_starosti.append(tekme[tekme['starost']==str(i)]['asistence'].sum())\n",
    "    seznam_tock_po_starosti.append(tekme[tekme['starost']==str(i)]['tocke'].sum())"
   ]
  },
  {
   "cell_type": "markdown",
   "metadata": {},
   "source": [
    "Ker po posameznih starostih ni igral istega števila tekem, bomo izračunali povprečja točk, zadetkov in asistenc na tekmo."
   ]
  },
  {
   "cell_type": "code",
   "execution_count": 17,
   "metadata": {
    "collapsed": false
   },
   "outputs": [],
   "source": [
    "povprecje_tock = []\n",
    "povprecje_zadetkov = []\n",
    "povprecje_asistenc = []\n",
    "for i in range(len(seznam_tekem_po_starosti)):\n",
    "    povprecje_tock.append(seznam_tock_po_starosti[i]/seznam_tekem_po_starosti[i])\n",
    "    povprecje_zadetkov.append(seznam_zadetkov_po_starosti[i]/seznam_tekem_po_starosti[i])\n",
    "    povprecje_asistenc.append(seznam_asistenc_po_starosti[i]/seznam_tekem_po_starosti[i])"
   ]
  },
  {
   "cell_type": "code",
   "execution_count": 18,
   "metadata": {
    "collapsed": false
   },
   "outputs": [
    {
     "data": {
      "text/plain": [
       "<matplotlib.text.Text at 0xcfa47375c0>"
      ]
     },
     "execution_count": 18,
     "metadata": {},
     "output_type": "execute_result"
    },
    {
     "data": {
      "image/png": "[encoded data removed]",
      "text/plain": [
       "<matplotlib.figure.Figure at 0xcfa4701668>"
      ]
     },
     "metadata": {},
     "output_type": "display_data"
    }
   ],
   "source": [
    "starost = []\n",
    "for i in range(18,46):\n",
    "    starost.append(i)\n",
    "plt.bar(starost, povprecje_tock, color = 'red')\n",
    "plt.bar(starost, povprecje_asistenc, color = 'green')\n",
    "plt.bar(starost, povprecje_zadetkov, color = 'blue')\n",
    "plt.title('Povprečje danih zadetkov, asistenc in točk po starosti')"
   ]
  },
  {
   "cell_type": "markdown",
   "metadata": {},
   "source": [
    "Na tem grafu se lepše vidi, kako je na začetku kariere napredoval, nato bil med 22. in 27. letom na vrhuncu svojih sposobnosti, po tem pa se je s starostjo njegov sezonski izkupiček začel postopoma zmanješavati. Opazimo tudi da na grafu 2 stolpca manjkata, v teh letih je Jaromir Jagr igral v Kontinentalni hokejski ligi (KHL). "
   ]
  },
  {
   "cell_type": "markdown",
   "metadata": {},
   "source": [
    "Za zaključek si bomo pogledali še izkupiček proti posameznim nasprotnikom. Zanima nas, ali mu igranje proti katerim klubom bolj ustreza kot proti drugim. "
   ]
  },
  {
   "cell_type": "code",
   "execution_count": 19,
   "metadata": {
    "collapsed": false
   },
   "outputs": [],
   "source": [
    "t = tekme.groupby('nasprotnik').sum()\n"
   ]
  },
  {
   "cell_type": "code",
   "execution_count": 20,
   "metadata": {
    "collapsed": false
   },
   "outputs": [
    {
     "data": {
      "text/plain": [
       "<matplotlib.axes._subplots.AxesSubplot at 0xcfa4701358>"
      ]
     },
     "execution_count": 20,
     "metadata": {},
     "output_type": "execute_result"
    },
    {
     "data": {
      "image/png": "[encoded data removed]",
      "text/plain": [
       "<matplotlib.figure.Figure at 0xcfa47a80b8>"
      ]
     },
     "metadata": {},
     "output_type": "display_data"
    }
   ],
   "source": [
    "t['tocke'].sort_values(ascending=True).plot(kind='barh', title = 'Število doseženih točk proti nasprotnikom', figsize=(5,10) ,cmap='Set3')"
   ]
  },
  {
   "cell_type": "markdown",
   "metadata": {},
   "source": [
    "Jagr je bil najbolj učinkovit proti ekipama New York Islanders in pa Philadelphia Flyers. To je tudi smiselen rezultat, saj sta bila to dolga leta divizijska tekmeca eipe Pittsburgh Penguins, za katero je igral Jagr in s katerimi so posledično odigrali tudi največ tekem. Zopet bi si bilo bolj smiselno pogledati povprečen izkupiček na tekmo."
   ]
  },
  {
   "cell_type": "code",
   "execution_count": 21,
   "metadata": {
    "collapsed": false
   },
   "outputs": [
    {
     "data": {
      "text/plain": [
       "<matplotlib.axes._subplots.AxesSubplot at 0xcfa4c8dac8>"
      ]
     },
     "execution_count": 21,
     "metadata": {},
     "output_type": "execute_result"
    },
    {
     "data": {
      "image/png": "[encoded data removed]",
      "text/plain": [
       "<matplotlib.figure.Figure at 0xcfa4c993c8>"
      ]
     },
     "metadata": {},
     "output_type": "display_data"
    }
   ],
   "source": [
    "p = tekme.groupby('nasprotnik').count()\n",
    "p['povprecje'] = t['tocke']/p['starost']\n",
    "p['povprecje'].sort_values(ascending=True).plot(kind='barh', title = 'Število doseženih točk proti nasprotnikom (povprečje)', figsize=(5,10) ,cmap='Set3')\n"
   ]
  },
  {
   "cell_type": "markdown",
   "metadata": {},
   "source": [
    "Vidimo, da sta Philadelphia in New York še vedno precej visoko. Na vrhu pa sta pričakovano ekipi Hartford Whalers in pa Mighty Ducks of Anaheim, ki v ligi ne nastopata več od leta 1997 oziroma 2003. V času njunega nastopanja je bilo na tekmo doseženih precej več zadetkov kot recimo sedaj, torej sta verjetno zaradi tega na prvem mestu. Na splošno pa je porazdelitev med ekipami precej enakovredna, torej ne moremo trditi da nekatere ekipe Jaromirju veliko bolj ustrezajo kot druge. Najbolj odstopa le zadnje uvrščena ekipa, to je Arizona Coyotes, verjetno zaradi tega, ker se je ligi pridružila šele 2014, ko je bila Jaromirjeva kariera že precej v zatonu."
   ]
  },
  {
   "cell_type": "code",
   "execution_count": 22,
   "metadata": {
    "collapsed": false
   },
   "outputs": [
    {
     "data": {
      "text/html": [
       "<img src=\"https://i.cbc.ca/1.3404454.1452808514!/fileImage/httpImage/image.jpg_gen/derivatives/original_620/travelling-jagrs-in-bathroom.jpg\"/>"
      ],
      "text/plain": [
       "<IPython.core.display.Image object>"
      ]
     },
     "execution_count": 22,
     "metadata": {},
     "output_type": "execute_result"
    }
   ],
   "source": [
    "Image(url= \"https://i.cbc.ca/1.3404454.1452808514!/fileImage/httpImage/image.jpg_gen/derivatives/original_620/travelling-jagrs-in-bathroom.jpg\")\n"
   ]
  },
  {
   "cell_type": "markdown",
   "metadata": {},
   "source": [
    "Jaromir Jagr, eden najboljših hokejistov vseh časov pri svojih neverjetnih 45 letih še vedno navdušuje hokejske navijače po vsem svetu. Z eno besedo, legenda."
   ]
  },
  {
   "cell_type": "code",
   "execution_count": null,
   "metadata": {
    "collapsed": true
   },
   "outputs": [],
   "source": []
  }
 ],
 "metadata": {
  "anaconda-cloud": {},
  "kernelspec": {
   "display_name": "Python [default]",
   "language": "python",
   "name": "python3"
  },
  "language_info": {
   "codemirror_mode": {
    "name": "ipython",
    "version": 3
   },
   "file_extension": ".py",
   "mimetype": "text/x-python",
   "name": "python",
   "nbconvert_exporter": "python",
   "pygments_lexer": "ipython3",
   "version": "3.5.2"
  }
 },
 "nbformat": 4,
 "nbformat_minor": 1
}
